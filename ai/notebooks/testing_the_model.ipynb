{
 "cells": [
  {
   "cell_type": "markdown",
   "metadata": {},
   "source": [
    "Load model from disk and test its usage"
   ]
  },
  {
   "cell_type": "code",
   "execution_count": 3,
   "metadata": {},
   "outputs": [],
   "source": [
    "import pickle\n",
    "\n",
    "from typing import Any\n",
    "\n",
    "\n",
    "class PickleFile:\n",
    "    @staticmethod\n",
    "    def load_from_disk(path: str):\n",
    "        with open(path, 'rb') as f:\n",
    "            return pickle.load(f)\n",
    "        \n",
    "    @staticmethod\n",
    "    def save_on_disk(content: Any, path: str):\n",
    "        with open(path, 'wb') as f:\n",
    "            pickle.dump(content, f)"
   ]
  },
  {
   "cell_type": "code",
   "execution_count": 5,
   "metadata": {},
   "outputs": [
    {
     "name": "stdout",
     "output_type": "stream",
     "text": [
      "Message: This is a custom sentence - Languag: ['en']\n",
      "Message: Hola, que tal - Languag: ['es']\n",
      "Message: Olá meus amigos - Languag: ['pt']\n"
     ]
    }
   ],
   "source": [
    "class LanguageDetector:\n",
    "    def __init__(self):\n",
    "        self.model = PickleFile.load_from_disk(\n",
    "            path = '../model/model.pkl'\n",
    "        )\n",
    "        self.vectorizer = PickleFile.load_from_disk(\n",
    "            path = '../model/vectorizer.pkl'\n",
    "        )\n",
    "\n",
    "    def detect(self, message: str) -> str:\n",
    "        data = self.vectorizer.transform([message]).toarray()\n",
    "        return self.model.predict(data)\n",
    "\n",
    "\n",
    "messages = [\n",
    "    'This is a custom sentence',\n",
    "    'Hola, que tal',\n",
    "    'Olá meus amigos'\n",
    "]\n",
    "\n",
    "detector = LanguageDetector()\n",
    "for message in messages:\n",
    "    output = detector.detect(message)\n",
    "    print(f'Message: {message} - Language: {output}')\n"
   ]
  }
 ],
 "metadata": {
  "kernelspec": {
   "display_name": "language-detector-pXAIFk-8-py3.11",
   "language": "python",
   "name": "python3"
  },
  "language_info": {
   "codemirror_mode": {
    "name": "ipython",
    "version": 3
   },
   "file_extension": ".py",
   "mimetype": "text/x-python",
   "name": "python",
   "nbconvert_exporter": "python",
   "pygments_lexer": "ipython3",
   "version": "3.11.8"
  }
 },
 "nbformat": 4,
 "nbformat_minor": 2
}
