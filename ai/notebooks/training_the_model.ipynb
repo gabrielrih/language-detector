{
 "cells": [
  {
   "cell_type": "markdown",
   "metadata": {},
   "source": [
    "Loading dataset"
   ]
  },
  {
   "cell_type": "code",
   "execution_count": 2,
   "metadata": {},
   "outputs": [],
   "source": [
    "import re\n",
    "import os\n",
    "\n",
    "\n",
    "class Dataset:\n",
    "    def __init__(self):\n",
    "        self.path = '.././dataset/europarl'\n",
    "\n",
    "    def load(self):\n",
    "        texts = []\n",
    "        labels = []\n",
    "        for label in os.listdir(self.path):\n",
    "            if self.ignore_if_undesired_path(label):\n",
    "                continue\n",
    "            for file_name in os.listdir(os.path.join(self.path, label)):\n",
    "                if self.ignore_if_undesired_path(file_name):\n",
    "                    continue\n",
    "                labels.append(label)\n",
    "                with open(os.path.join(self.path, label, file_name), 'rb') as fp:\n",
    "                    texts.append(self.remove_text_fragment(fp))\n",
    "        return texts, labels\n",
    "    \n",
    "    def ignore_if_undesired_path(self, file: str) -> bool:\n",
    "        undesired_files = ['.DS_Store']\n",
    "        if file in undesired_files:\n",
    "            return True\n",
    "        return False\n",
    "    \n",
    "    def remove_text_fragment(self, fp) -> str:\n",
    "        r = re.compile('<[^<]+?>')\n",
    "        return r.sub('', fp.read().decode('utf-8', errors='ignore'))\n",
    "    \n",
    "\n"
   ]
  },
  {
   "cell_type": "code",
   "execution_count": 3,
   "metadata": {},
   "outputs": [
    {
     "name": "stdout",
     "output_type": "stream",
     "text": [
      "Length of x: 28539 - Sample: \n",
      "6. Financiamento inovador a nível mundial e europeu (\n",
      "\n",
      "(FR) Senhora Presidente, lamento que exista uma certa confusão neste relatório da senhora deputada Anni Podimata, que levanta uma série de questões importantes no que diz respeito ao financiamento inovador. Gostaria de pedir ao Grupo da Aliança Progressista dos Socialistas & Democratas no Parlamento Europeu que retirasse a proposta alternativa que apresentou a fim de que o trabalho de redacção conjunto que foi realizado seja concluído.\n",
      "\n",
      "Em segundo lugar, lamento que uma oposição algo artificial tenha emergido sobre a questão do imposto sobre transacções financeiras e que existam duas alterações muito semelhantes. Lamento que, como resultado disso, o Parlamento não possa expressar o seu apoio esmagador a esse imposto em condições que sejam razoáveis face à competitividade da Europa.\n",
      "\n",
      "(DE) Senhora Presidente, posso dizer ao senhor deputado Jean-Paul Gauzès o seguinte: sim, tencionamos retirar esta proposta de resolução alternativa. Foi essa a recomendação que fiz ao meu Grupo e por uma razão muito simples: a alteração que se segue, que foi assinada por 120 deputados de todos os grupos, mostra que as propostas relativas a um imposto sobre transacções financeiras não são propriedade de qualquer Grupo, dos Conservadores, dos Socialistas, do Grupo do Partido Popular Europeu (Democratas-Cristãos), ou do Grupo dos Verdes/Aliança Livre Europeia. A ideia é apresentar uma proposta institucional e emitir um sinal institucional de que esta Câmara é capaz de forma transversal a todos os grupos políticos: \"Queremos que o sector privado pague a sua quota-parte dos encargos da crise\". Esta não é uma exigência socialista, ou uma exigência do Grupo PPE, é o nosso desejo comum. Se conseguirmos expressar esta ideia, hoje, de forma institucional, então isso representará um enorme êxito para o Parlamento Europeu. Essa a razão que nos leva a retirar a proposta.\n",
      "\n",
      "(Aplausos)\n",
      "\n",
      "(EL) Senhora Presidente, ontem, em sessão plenária, o Grupo do Partido Popular Europeu (Democratas-Cristãos) apresentou uma outra proposta que poderá constituir um compromisso, a saber: será possível deixar claro que os recursos serão canalizados para o orçamento da UE e para o mecanismo de apoio? Apresentámos o assunto para debate, ontem, e aguardamos uma resposta, para que possamos chegar a um compromisso e enviar uma mensagem positiva às Instituições da UE.\n",
      "\n",
      "Length of y: 28539 - Sample: pt\n"
     ]
    }
   ],
   "source": [
    "dataset = Dataset()\n",
    "x, y = dataset.load()\n",
    "print(f'Length of x: {len(x)} - Sample: {x[0]}')\n",
    "print(f'Length of y: {len(y)} - Sample: {y[0]}')"
   ]
  },
  {
   "cell_type": "markdown",
   "metadata": {},
   "source": [
    "Vectorization"
   ]
  },
  {
   "cell_type": "code",
   "execution_count": 4,
   "metadata": {},
   "outputs": [
    {
     "name": "stdout",
     "output_type": "stream",
     "text": [
      "Model-Score: 0.9963898916967509\n"
     ]
    }
   ],
   "source": [
    "from sklearn.feature_extraction.text import CountVectorizer\n",
    "from sklearn.model_selection import train_test_split\n",
    "from sklearn.naive_bayes import MultinomialNB\n",
    "\n",
    "\n",
    "cv = CountVectorizer()\n",
    "X = cv.fit_transform(x)\n",
    "X_train, X_test, y_train, y_test = train_test_split(X, y, test_size=0.33, random_state=42)\n",
    "\n",
    "model = MultinomialNB()\n",
    "model.fit(X_train, y_train)\n",
    "print(f'Model-Score: {model.score(X_test, y_test)}')"
   ]
  },
  {
   "cell_type": "markdown",
   "metadata": {},
   "source": [
    "Dump model and vectorizer to disk"
   ]
  },
  {
   "cell_type": "code",
   "execution_count": 5,
   "metadata": {},
   "outputs": [],
   "source": [
    "import pickle\n",
    "\n",
    "from typing import Any\n",
    "\n",
    "\n",
    "class PickleFile:\n",
    "    @staticmethod\n",
    "    def load_from_disk(path: str):\n",
    "        with open(path, 'rb') as f:\n",
    "            return pickle.load(f)\n",
    "        \n",
    "    @staticmethod\n",
    "    def save_on_disk(content: Any, path: str):\n",
    "        with open(path, 'wb') as f:\n",
    "            pickle.dump(content, f)\n"
   ]
  },
  {
   "cell_type": "code",
   "execution_count": 6,
   "metadata": {},
   "outputs": [],
   "source": [
    "PickleFile.save_on_disk(\n",
    "    content = model,\n",
    "    path = '../model/model.pkl' \n",
    ")\n",
    "\n",
    "PickleFile.save_on_disk(\n",
    "    content = cv,\n",
    "    path = '../model/vectorizer.pkl'\n",
    ")\n"
   ]
  }
 ],
 "metadata": {
  "kernelspec": {
   "display_name": "Python 3",
   "language": "python",
   "name": "python3"
  },
  "language_info": {
   "codemirror_mode": {
    "name": "ipython",
    "version": 3
   },
   "file_extension": ".py",
   "mimetype": "text/x-python",
   "name": "python",
   "nbconvert_exporter": "python",
   "pygments_lexer": "ipython3",
   "version": "3.11.8"
  }
 },
 "nbformat": 4,
 "nbformat_minor": 2
}
